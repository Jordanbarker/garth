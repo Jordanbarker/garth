{
  "nbformat": 4,
  "nbformat_minor": 0,
  "metadata": {
    "colab": {
      "provenance": [],
      "authorship_tag": "ABX9TyOvGj7JvQRmRYwUxuAG+MdM",
      "include_colab_link": true
    },
    "kernelspec": {
      "name": "python3",
      "display_name": "Python 3"
    },
    "language_info": {
      "name": "python"
    }
  },
  "cells": [
    {
      "cell_type": "markdown",
      "metadata": {
        "id": "view-in-github",
        "colab_type": "text"
      },
      "source": [
        "<a href=\"https://colab.research.google.com/github/matin/garth/blob/main/sleep.ipynb\" target=\"_parent\"><img src=\"https://colab.research.google.com/assets/colab-badge.svg\" alt=\"Open In Colab\"/></a>"
      ]
    },
    {
      "cell_type": "markdown",
      "source": [
        "# Garmin sleep statistics"
      ],
      "metadata": {
        "id": "BAdFqDSZ6kDc"
      }
    },
    {
      "cell_type": "markdown",
      "source": [
        "Start by installing and importing `garth`"
      ],
      "metadata": {
        "id": "rYcdIQ0p7J0y"
      }
    },
    {
      "cell_type": "code",
      "execution_count": 1,
      "metadata": {
        "id": "ImHEwwsi6U_C"
      },
      "outputs": [],
      "source": [
        "%pip install garth >& /dev/null"
      ]
    },
    {
      "cell_type": "code",
      "source": [
        "import garth"
      ],
      "metadata": {
        "id": "2hqN2SWx7Msx"
      },
      "execution_count": 2,
      "outputs": []
    },
    {
      "cell_type": "markdown",
      "source": [
        "Define Garth session location to save and resume sessions"
      ],
      "metadata": {
        "id": "ZIgwOzTp7QPs"
      }
    },
    {
      "cell_type": "code",
      "source": [
        "SESSION_PATH = 'drive/MyDrive/garth'"
      ],
      "metadata": {
        "id": "rRY592o97W7m"
      },
      "execution_count": 3,
      "outputs": []
    },
    {
      "cell_type": "markdown",
      "source": [
        "Mount Drive for saving and resuming sessions"
      ],
      "metadata": {
        "id": "-7XcADH-7Z2B"
      }
    },
    {
      "cell_type": "code",
      "source": [
        "from google.colab import drive\n",
        "drive.mount('/content/drive')"
      ],
      "metadata": {
        "colab": {
          "base_uri": "https://localhost:8080/"
        },
        "id": "E5ng79XD7cZG",
        "outputId": "df1db134-a74f-4400-846a-81b41f1874c2"
      },
      "execution_count": 4,
      "outputs": [
        {
          "output_type": "stream",
          "name": "stdout",
          "text": [
            "Mounted at /content/drive\n"
          ]
        }
      ]
    },
    {
      "cell_type": "markdown",
      "source": [
        "Resume session or login, and make sure to save the garth session for next time"
      ],
      "metadata": {
        "id": "RZwodyQw7iqq"
      }
    },
    {
      "cell_type": "code",
      "source": [
        "from garth.exc import GarthException\n",
        "from getpass import getpass\n",
        "from requests import HTTPError\n",
        "\n",
        "try:\n",
        "    garth.resume(SESSION_PATH)\n",
        "    garth.client.auth_token.refresh()\n",
        "except (GarthException, HTTPError, FileNotFoundError):\n",
        "    email = input(\"Email: \")\n",
        "    password = getpass(\"Password: \")\n",
        "    garth.client.login(email, password)\n",
        "\n",
        "garth.save(SESSION_PATH)"
      ],
      "metadata": {
        "id": "DEEIjPWn7lu5"
      },
      "execution_count": 5,
      "outputs": []
    },
    {
      "cell_type": "markdown",
      "source": [
        "## Daily sleep quality"
      ],
      "metadata": {
        "id": "thTMuZ0w7-P_"
      }
    },
    {
      "cell_type": "markdown",
      "source": [
        "List sleep quality for the past 7 days"
      ],
      "metadata": {
        "id": "hkkhxPqY8GMU"
      }
    },
    {
      "cell_type": "code",
      "source": [
        "garth.DailySleep.list(period=7)"
      ],
      "metadata": {
        "colab": {
          "base_uri": "https://localhost:8080/"
        },
        "id": "27r1VCJ98Bxz",
        "outputId": "bf64ae23-a041-45b7-d057-c6c635bb7f94"
      },
      "execution_count": 6,
      "outputs": [
        {
          "output_type": "execute_result",
          "data": {
            "text/plain": [
              "[DailySleep(calendar_date=datetime.date(2023, 7, 23), value=73),\n",
              " DailySleep(calendar_date=datetime.date(2023, 7, 24), value=70),\n",
              " DailySleep(calendar_date=datetime.date(2023, 7, 25), value=87),\n",
              " DailySleep(calendar_date=datetime.date(2023, 7, 26), value=59),\n",
              " DailySleep(calendar_date=datetime.date(2023, 7, 27), value=67),\n",
              " DailySleep(calendar_date=datetime.date(2023, 7, 28), value=69)]"
            ]
          },
          "metadata": {},
          "execution_count": 6
        }
      ]
    },
    {
      "cell_type": "markdown",
      "source": [
        "Let's take a look at the sleep quality for the most recent 30 days"
      ],
      "metadata": {
        "id": "00pLOftd8OBZ"
      }
    },
    {
      "cell_type": "code",
      "source": [
        "import pandas as pd\n",
        "import matplotlib.pyplot as plt\n",
        "\n",
        "daily_sleep = pd.DataFrame(garth.DailySleep.list(period=30))\n",
        "daily_sleep.set_index('calendar_date', inplace=True)\n",
        "daily_sleep.plot(kind='line', grid=True, figsize=(10, 7), legend=False)\n",
        "\n",
        "plt.ylabel('Quality')\n",
        "plt.xlabel('Date')\n",
        "plt.title('Daily Sleep Quality')\n",
        "\n",
        "ax = plt.gca()\n",
        "ax.grid(axis='x')\n",
        "plt.xticks(ticks=daily_sleep.index, rotation=45, ha='right')\n",
        "\n",
        "plt.show()"
      ],
      "metadata": {
        "colab": {
          "base_uri": "https://localhost:8080/",
          "height": 694
        },
        "id": "rIGthr8r8S70",
        "outputId": "4d57fa48-0b6c-47ac-8840-41b94370e3de"
      },
      "execution_count": 7,
      "outputs": [
        {
          "output_type": "display_data",
          "data": {
            "text/plain": [
              "<Figure size 1000x700 with 1 Axes>"
            ],
            "image/png": "[encoded data removed]"
          },
          "metadata": {}
        }
      ]
    },
    {
      "cell_type": "markdown",
      "source": [
        "## Daily sleep data (including stages)"
      ],
      "metadata": {
        "id": "cGY4-x_68obc"
      }
    },
    {
      "cell_type": "markdown",
      "source": [
        "The sleep data includes a tremendous amount of information and can only be fetched by day. Let's fetch every day for the 30 days leading up to yesterday"
      ],
      "metadata": {
        "id": "EneDTjdO8zBG"
      }
    },
    {
      "cell_type": "code",
      "source": [
        "from datetime import date, timedelta\n",
        "sleep_data = garth.SleepData.list(date.today() - timedelta(days=1), days=30)"
      ],
      "metadata": {
        "id": "YWwxbPk19DUG"
      },
      "execution_count": 8,
      "outputs": []
    },
    {
      "cell_type": "markdown",
      "source": [
        "The data is nested, so we'll need to flatten it to be able to get it into a usable DataFrame"
      ],
      "metadata": {
        "id": "kr0dFRqq9bAQ"
      }
    },
    {
      "cell_type": "code",
      "source": [
        "import pandas as pd\n",
        "from pydantic import BaseModel\n",
        "from typing import List, Union\n",
        "from dataclasses import is_dataclass\n",
        "\n",
        "def dataclass_to_dict(dataclass_instance: Union[BaseModel, list]):\n",
        "    if isinstance(dataclass_instance, list):\n",
        "        return [dataclass_to_dict(item) for item in dataclass_instance]\n",
        "    elif is_dataclass(dataclass_instance):\n",
        "        return {k: dataclass_to_dict(v) for k, v in dataclass_instance.__dict__.items()}\n",
        "    else:\n",
        "        return dataclass_instance\n",
        "\n",
        "def dataclass_to_dataframe(dataclass_list: List[BaseModel]) -> pd.DataFrame:\n",
        "    dict_list = dataclass_to_dict(dataclass_list)\n",
        "    return pd.json_normalize(dict_list)\n",
        "\n",
        "df = dataclass_to_dataframe(sleep_data)"
      ],
      "metadata": {
        "id": "0X4-OHty9ofY"
      },
      "execution_count": 9,
      "outputs": []
    },
    {
      "cell_type": "markdown",
      "source": [
        "Here's what five days looks like"
      ],
      "metadata": {
        "id": "vhqdCmLr-GfU"
      }
    },
    {
      "cell_type": "code",
      "source": [
        "df.head()"
      ],
      "metadata": {
        "colab": {
          "base_uri": "https://localhost:8080/",
          "height": 473
        },
        "id": "uyNi-Bax910H",
        "outputId": "48b4c1a2-1863-485f-b27c-6e7c89b4ddce"
      },
      "execution_count": 10,
      "outputs": [
        {
          "output_type": "execute_result",
          "data": {
            "text/plain": [
              "                                      sleep_movement  \\\n",
              "0  [{'start_gmt': 2023-06-29 03:53:00, 'end_gmt':...   \n",
              "1  [{'start_gmt': 2023-06-30 04:26:00, 'end_gmt':...   \n",
              "2  [{'start_gmt': 2023-07-01 05:40:00, 'end_gmt':...   \n",
              "3  [{'start_gmt': 2023-07-02 05:04:00, 'end_gmt':...   \n",
              "4  [{'start_gmt': 2023-07-03 03:09:00, 'end_gmt':...   \n",
              "\n",
              "   __pydantic_initialised__  daily_sleep_dto.id  \\\n",
              "0                      True       1688014380000   \n",
              "1                      True       1688102760000   \n",
              "2                      True       1688193600000   \n",
              "3                      True       1688277840000   \n",
              "4                      True       1688357340000   \n",
              "\n",
              "   daily_sleep_dto.user_profile_pk daily_sleep_dto.calendar_date  \\\n",
              "0                          2591602                    2023-06-29   \n",
              "1                          2591602                    2023-06-30   \n",
              "2                          2591602                    2023-07-01   \n",
              "3                          2591602                    2023-07-02   \n",
              "4                          2591602                    2023-07-03   \n",
              "\n",
              "   daily_sleep_dto.sleep_time_seconds  daily_sleep_dto.nap_time_seconds  \\\n",
              "0                               26460                                 0   \n",
              "1                               19680                                 0   \n",
              "2                               17040                                 0   \n",
              "3                               20100                                 0   \n",
              "4                               27360                                 0   \n",
              "\n",
              "   daily_sleep_dto.sleep_window_confirmed  \\\n",
              "0                                    True   \n",
              "1                                    True   \n",
              "2                                    True   \n",
              "3                                    True   \n",
              "4                                    True   \n",
              "\n",
              "  daily_sleep_dto.sleep_window_confirmation_type  \\\n",
              "0                       enhanced_confirmed_final   \n",
              "1                       enhanced_confirmed_final   \n",
              "2                       enhanced_confirmed_final   \n",
              "3                       enhanced_confirmed_final   \n",
              "4                       enhanced_confirmed_final   \n",
              "\n",
              "  daily_sleep_dto.sleep_start_timestamp_gmt  ...  \\\n",
              "0                 2023-06-29 04:53:00+00:00  ...   \n",
              "1                 2023-06-30 05:26:00+00:00  ...   \n",
              "2                 2023-07-01 06:40:00+00:00  ...   \n",
              "3                 2023-07-02 06:04:00+00:00  ...   \n",
              "4                 2023-07-03 04:09:00+00:00  ...   \n",
              "\n",
              "  daily_sleep_dto.highest_sp_o2_value daily_sleep_dto.average_sp_o2_hr_sleep  \\\n",
              "0                                  98                                   48.0   \n",
              "1                                  99                                   50.0   \n",
              "2                                  96                                   53.0   \n",
              "3                                  96                                   51.0   \n",
              "4                                  98                                   47.0   \n",
              "\n",
              "  daily_sleep_dto.average_respiration_value  \\\n",
              "0                                      14.0   \n",
              "1                                      14.0   \n",
              "2                                      15.0   \n",
              "3                                      15.0   \n",
              "4                                      14.0   \n",
              "\n",
              "   daily_sleep_dto.lowest_respiration_value  \\\n",
              "0                                       9.0   \n",
              "1                                       5.0   \n",
              "2                                      12.0   \n",
              "3                                      13.0   \n",
              "4                                       6.0   \n",
              "\n",
              "   daily_sleep_dto.highest_respiration_value  \\\n",
              "0                                       17.0   \n",
              "1                                       16.0   \n",
              "2                                       16.0   \n",
              "3                                       16.0   \n",
              "4                                       17.0   \n",
              "\n",
              "   daily_sleep_dto.avg_sleep_stress  daily_sleep_dto.age_group  \\\n",
              "0                              16.0                      ADULT   \n",
              "1                              18.0                      ADULT   \n",
              "2                              18.0                      ADULT   \n",
              "3                              14.0                      ADULT   \n",
              "4                              12.0                      ADULT   \n",
              "\n",
              "   daily_sleep_dto.sleep_score_feedback  daily_sleep_dto.sleep_score_insight  \\\n",
              "0                POSITIVE_LONG_AND_DEEP                                 NONE   \n",
              "1                         POSITIVE_DEEP                    POSITIVE_EXERCISE   \n",
              "2      NEGATIVE_SHORT_AND_NONRECOVERING        NEGATIVE_HIGHLY_STRESSFUL_DAY   \n",
              "3               NEGATIVE_NOT_ENOUGH_REM                                 NONE   \n",
              "4       NEGATIVE_LONG_BUT_DISCONTINUOUS                                 NONE   \n",
              "\n",
              "   daily_sleep_dto.__pydantic_initialised__  \n",
              "0                                      True  \n",
              "1                                      True  \n",
              "2                                      True  \n",
              "3                                      True  \n",
              "4                                      True  \n",
              "\n",
              "[5 rows x 96 columns]"
            ],
            "text/html": [
              "\n",
              "\n",
              "  <div id=\"df-2a2a307b-b4a1-43ca-88d4-85e4b8c61894\">\n",
              "    <div class=\"colab-df-container\">\n",
              "      <div>\n",
              "<style scoped>\n",
              "    .dataframe tbody tr th:only-of-type {\n",
              "        vertical-align: middle;\n",
              "    }\n",
              "\n",
              "    .dataframe tbody tr th {\n",
              "        vertical-align: top;\n",
              "    }\n",
              "\n",
              "    .dataframe thead th {\n",
              "        text-align: right;\n",
              "    }\n",
              "</style>\n",
              "<table border=\"1\" class=\"dataframe\">\n",
              "  <thead>\n",
              "    <tr style=\"text-align: right;\">\n",
              "      <th></th>\n",
              "      <th>sleep_movement</th>\n",
              "      <th>__pydantic_initialised__</th>\n",
              "      <th>daily_sleep_dto.id</th>\n",
              "      <th>daily_sleep_dto.user_profile_pk</th>\n",
              "      <th>daily_sleep_dto.calendar_date</th>\n",
              "      <th>daily_sleep_dto.sleep_time_seconds</th>\n",
              "      <th>daily_sleep_dto.nap_time_seconds</th>\n",
              "      <th>daily_sleep_dto.sleep_window_confirmed</th>\n",
              "      <th>daily_sleep_dto.sleep_window_confirmation_type</th>\n",
              "      <th>daily_sleep_dto.sleep_start_timestamp_gmt</th>\n",
              "      <th>...</th>\n",
              "      <th>daily_sleep_dto.highest_sp_o2_value</th>\n",
              "      <th>daily_sleep_dto.average_sp_o2_hr_sleep</th>\n",
              "      <th>daily_sleep_dto.average_respiration_value</th>\n",
              "      <th>daily_sleep_dto.lowest_respiration_value</th>\n",
              "      <th>daily_sleep_dto.highest_respiration_value</th>\n",
              "      <th>daily_sleep_dto.avg_sleep_stress</th>\n",
              "      <th>daily_sleep_dto.age_group</th>\n",
              "      <th>daily_sleep_dto.sleep_score_feedback</th>\n",
              "      <th>daily_sleep_dto.sleep_score_insight</th>\n",
              "      <th>daily_sleep_dto.__pydantic_initialised__</th>\n",
              "    </tr>\n",
              "  </thead>\n",
              "  <tbody>\n",
              "    <tr>\n",
              "      <th>0</th>\n",
              "      <td>[{'start_gmt': 2023-06-29 03:53:00, 'end_gmt':...</td>\n",
              "      <td>True</td>\n",
              "      <td>1688014380000</td>\n",
              "      <td>2591602</td>\n",
              "      <td>2023-06-29</td>\n",
              "      <td>26460</td>\n",
              "      <td>0</td>\n",
              "      <td>True</td>\n",
              "      <td>enhanced_confirmed_final</td>\n",
              "      <td>2023-06-29 04:53:00+00:00</td>\n",
              "      <td>...</td>\n",
              "      <td>98</td>\n",
              "      <td>48.0</td>\n",
              "      <td>14.0</td>\n",
              "      <td>9.0</td>\n",
              "      <td>17.0</td>\n",
              "      <td>16.0</td>\n",
              "      <td>ADULT</td>\n",
              "      <td>POSITIVE_LONG_AND_DEEP</td>\n",
              "      <td>NONE</td>\n",
              "      <td>True</td>\n",
              "    </tr>\n",
              "    <tr>\n",
              "      <th>1</th>\n",
              "      <td>[{'start_gmt': 2023-06-30 04:26:00, 'end_gmt':...</td>\n",
              "      <td>True</td>\n",
              "      <td>1688102760000</td>\n",
              "      <td>2591602</td>\n",
              "      <td>2023-06-30</td>\n",
              "      <td>19680</td>\n",
              "      <td>0</td>\n",
              "      <td>True</td>\n",
              "      <td>enhanced_confirmed_final</td>\n",
              "      <td>2023-06-30 05:26:00+00:00</td>\n",
              "      <td>...</td>\n",
              "      <td>99</td>\n",
              "      <td>50.0</td>\n",
              "      <td>14.0</td>\n",
              "      <td>5.0</td>\n",
              "      <td>16.0</td>\n",
              "      <td>18.0</td>\n",
              "      <td>ADULT</td>\n",
              "      <td>POSITIVE_DEEP</td>\n",
              "      <td>POSITIVE_EXERCISE</td>\n",
              "      <td>True</td>\n",
              "    </tr>\n",
              "    <tr>\n",
              "      <th>2</th>\n",
              "      <td>[{'start_gmt': 2023-07-01 05:40:00, 'end_gmt':...</td>\n",
              "      <td>True</td>\n",
              "      <td>1688193600000</td>\n",
              "      <td>2591602</td>\n",
              "      <td>2023-07-01</td>\n",
              "      <td>17040</td>\n",
              "      <td>0</td>\n",
              "      <td>True</td>\n",
              "      <td>enhanced_confirmed_final</td>\n",
              "      <td>2023-07-01 06:40:00+00:00</td>\n",
              "      <td>...</td>\n",
              "      <td>96</td>\n",
              "      <td>53.0</td>\n",
              "      <td>15.0</td>\n",
              "      <td>12.0</td>\n",
              "      <td>16.0</td>\n",
              "      <td>18.0</td>\n",
              "      <td>ADULT</td>\n",
              "      <td>NEGATIVE_SHORT_AND_NONRECOVERING</td>\n",
              "      <td>NEGATIVE_HIGHLY_STRESSFUL_DAY</td>\n",
              "      <td>True</td>\n",
              "    </tr>\n",
              "    <tr>\n",
              "      <th>3</th>\n",
              "      <td>[{'start_gmt': 2023-07-02 05:04:00, 'end_gmt':...</td>\n",
              "      <td>True</td>\n",
              "      <td>1688277840000</td>\n",
              "      <td>2591602</td>\n",
              "      <td>2023-07-02</td>\n",
              "      <td>20100</td>\n",
              "      <td>0</td>\n",
              "      <td>True</td>\n",
              "      <td>enhanced_confirmed_final</td>\n",
              "      <td>2023-07-02 06:04:00+00:00</td>\n",
              "      <td>...</td>\n",
              "      <td>96</td>\n",
              "      <td>51.0</td>\n",
              "      <td>15.0</td>\n",
              "      <td>13.0</td>\n",
              "      <td>16.0</td>\n",
              "      <td>14.0</td>\n",
              "      <td>ADULT</td>\n",
              "      <td>NEGATIVE_NOT_ENOUGH_REM</td>\n",
              "      <td>NONE</td>\n",
              "      <td>True</td>\n",
              "    </tr>\n",
              "    <tr>\n",
              "      <th>4</th>\n",
              "      <td>[{'start_gmt': 2023-07-03 03:09:00, 'end_gmt':...</td>\n",
              "      <td>True</td>\n",
              "      <td>1688357340000</td>\n",
              "      <td>2591602</td>\n",
              "      <td>2023-07-03</td>\n",
              "      <td>27360</td>\n",
              "      <td>0</td>\n",
              "      <td>True</td>\n",
              "      <td>enhanced_confirmed_final</td>\n",
              "      <td>2023-07-03 04:09:00+00:00</td>\n",
              "      <td>...</td>\n",
              "      <td>98</td>\n",
              "      <td>47.0</td>\n",
              "      <td>14.0</td>\n",
              "      <td>6.0</td>\n",
              "      <td>17.0</td>\n",
              "      <td>12.0</td>\n",
              "      <td>ADULT</td>\n",
              "      <td>NEGATIVE_LONG_BUT_DISCONTINUOUS</td>\n",
              "      <td>NONE</td>\n",
              "      <td>True</td>\n",
              "    </tr>\n",
              "  </tbody>\n",
              "</table>\n",
              "<p>5 rows × 96 columns</p>\n",
              "</div>\n",
              "      <button class=\"colab-df-convert\" onclick=\"convertToInteractive('df-2a2a307b-b4a1-43ca-88d4-85e4b8c61894')\"\n",
              "              title=\"Convert this dataframe to an interactive table.\"\n",
              "              style=\"display:none;\">\n",
              "\n",
              "  <svg xmlns=\"http://www.w3.org/2000/svg\" height=\"24px\"viewBox=\"0 0 24 24\"\n",
              "       width=\"24px\">\n",
              "    <path d=\"M0 0h24v24H0V0z\" fill=\"none\"/>\n",
              "    <path d=\"M18.56 5.44l.94 2.06.94-2.06 2.06-.94-2.06-.94-.94-2.06-.94 2.06-2.06.94zm-11 1L8.5 8.5l.94-2.06 2.06-.94-2.06-.94L8.5 2.5l-.94 2.06-2.06.94zm10 10l.94 2.06.94-2.06 2.06-.94-2.06-.94-.94-2.06-.94 2.06-2.06.94z\"/><path d=\"M17.41 7.96l-1.37-1.37c-.4-.4-.92-.59-1.43-.59-.52 0-1.04.2-1.43.59L10.3 9.45l-7.72 7.72c-.78.78-.78 2.05 0 2.83L4 21.41c.39.39.9.59 1.41.59.51 0 1.02-.2 1.41-.59l7.78-7.78 2.81-2.81c.8-.78.8-2.07 0-2.86zM5.41 20L4 18.59l7.72-7.72 1.47 1.35L5.41 20z\"/>\n",
              "  </svg>\n",
              "      </button>\n",
              "\n",
              "\n",
              "\n",
              "    <div id=\"df-7c939adf-5dd5-442a-92aa-ccae7ef5184c\">\n",
              "      <button class=\"colab-df-quickchart\" onclick=\"quickchart('df-7c939adf-5dd5-442a-92aa-ccae7ef5184c')\"\n",
              "              title=\"Suggest charts.\"\n",
              "              style=\"display:none;\">\n",
              "\n",
              "<svg xmlns=\"http://www.w3.org/2000/svg\" height=\"24px\"viewBox=\"0 0 24 24\"\n",
              "     width=\"24px\">\n",
              "    <g>\n",
              "        <path d=\"M19 3H5c-1.1 0-2 .9-2 2v14c0 1.1.9 2 2 2h14c1.1 0 2-.9 2-2V5c0-1.1-.9-2-2-2zM9 17H7v-7h2v7zm4 0h-2V7h2v10zm4 0h-2v-4h2v4z\"/>\n",
              "    </g>\n",
              "</svg>\n",
              "      </button>\n",
              "    </div>\n",
              "\n",
              "<style>\n",
              "  .colab-df-quickchart {\n",
              "    background-color: #E8F0FE;\n",
              "    border: none;\n",
              "    border-radius: 50%;\n",
              "    cursor: pointer;\n",
              "    display: none;\n",
              "    fill: #1967D2;\n",
              "    height: 32px;\n",
              "    padding: 0 0 0 0;\n",
              "    width: 32px;\n",
              "  }\n",
              "\n",
              "  .colab-df-quickchart:hover {\n",
              "    background-color: #E2EBFA;\n",
              "    box-shadow: 0px 1px 2px rgba(60, 64, 67, 0.3), 0px 1px 3px 1px rgba(60, 64, 67, 0.15);\n",
              "    fill: #174EA6;\n",
              "  }\n",
              "\n",
              "  [theme=dark] .colab-df-quickchart {\n",
              "    background-color: #3B4455;\n",
              "    fill: #D2E3FC;\n",
              "  }\n",
              "\n",
              "  [theme=dark] .colab-df-quickchart:hover {\n",
              "    background-color: #434B5C;\n",
              "    box-shadow: 0px 1px 3px 1px rgba(0, 0, 0, 0.15);\n",
              "    filter: drop-shadow(0px 1px 2px rgba(0, 0, 0, 0.3));\n",
              "    fill: #FFFFFF;\n",
              "  }\n",
              "</style>\n",
              "\n",
              "    <script>\n",
              "      async function quickchart(key) {\n",
              "        const containerElement = document.querySelector('#' + key);\n",
              "        const charts = await google.colab.kernel.invokeFunction(\n",
              "            'suggestCharts', [key], {});\n",
              "      }\n",
              "    </script>\n",
              "\n",
              "      <script>\n",
              "\n",
              "function displayQuickchartButton(domScope) {\n",
              "  let quickchartButtonEl =\n",
              "    domScope.querySelector('#df-7c939adf-5dd5-442a-92aa-ccae7ef5184c button.colab-df-quickchart');\n",
              "  quickchartButtonEl.style.display =\n",
              "    google.colab.kernel.accessAllowed ? 'block' : 'none';\n",
              "}\n",
              "\n",
              "        displayQuickchartButton(document);\n",
              "      </script>\n",
              "      <style>\n",
              "    .colab-df-container {\n",
              "      display:flex;\n",
              "      flex-wrap:wrap;\n",
              "      gap: 12px;\n",
              "    }\n",
              "\n",
              "    .colab-df-convert {\n",
              "      background-color: #E8F0FE;\n",
              "      border: none;\n",
              "      border-radius: 50%;\n",
              "      cursor: pointer;\n",
              "      display: none;\n",
              "      fill: #1967D2;\n",
              "      height: 32px;\n",
              "      padding: 0 0 0 0;\n",
              "      width: 32px;\n",
              "    }\n",
              "\n",
              "    .colab-df-convert:hover {\n",
              "      background-color: #E2EBFA;\n",
              "      box-shadow: 0px 1px 2px rgba(60, 64, 67, 0.3), 0px 1px 3px 1px rgba(60, 64, 67, 0.15);\n",
              "      fill: #174EA6;\n",
              "    }\n",
              "\n",
              "    [theme=dark] .colab-df-convert {\n",
              "      background-color: #3B4455;\n",
              "      fill: #D2E3FC;\n",
              "    }\n",
              "\n",
              "    [theme=dark] .colab-df-convert:hover {\n",
              "      background-color: #434B5C;\n",
              "      box-shadow: 0px 1px 3px 1px rgba(0, 0, 0, 0.15);\n",
              "      filter: drop-shadow(0px 1px 2px rgba(0, 0, 0, 0.3));\n",
              "      fill: #FFFFFF;\n",
              "    }\n",
              "  </style>\n",
              "\n",
              "      <script>\n",
              "        const buttonEl =\n",
              "          document.querySelector('#df-2a2a307b-b4a1-43ca-88d4-85e4b8c61894 button.colab-df-convert');\n",
              "        buttonEl.style.display =\n",
              "          google.colab.kernel.accessAllowed ? 'block' : 'none';\n",
              "\n",
              "        async function convertToInteractive(key) {\n",
              "          const element = document.querySelector('#df-2a2a307b-b4a1-43ca-88d4-85e4b8c61894');\n",
              "          const dataTable =\n",
              "            await google.colab.kernel.invokeFunction('convertToInteractive',\n",
              "                                                     [key], {});\n",
              "          if (!dataTable) return;\n",
              "\n",
              "          const docLinkHtml = 'Like what you see? Visit the ' +\n",
              "            '<a target=\"_blank\" href=https://colab.research.google.com/notebooks/data_table.ipynb>data table notebook</a>'\n",
              "            + ' to learn more about interactive tables.';\n",
              "          element.innerHTML = '';\n",
              "          dataTable['output_type'] = 'display_data';\n",
              "          await google.colab.output.renderOutput(dataTable, element);\n",
              "          const docLink = document.createElement('div');\n",
              "          docLink.innerHTML = docLinkHtml;\n",
              "          element.appendChild(docLink);\n",
              "        }\n",
              "      </script>\n",
              "    </div>\n",
              "  </div>\n"
            ]
          },
          "metadata": {},
          "execution_count": 10
        }
      ]
    },
    {
      "cell_type": "markdown",
      "source": [
        "Let's graph the sleep stages as a stacked bar graph"
      ],
      "metadata": {
        "id": "Ppg1gskf-Lhz"
      }
    },
    {
      "cell_type": "code",
      "source": [
        "# Convert the relevant sleep time columns from seconds to hours\n",
        "df[\"daily_sleep_dto.deep_sleep_hours\"] = df[\"daily_sleep_dto.deep_sleep_seconds\"] / 3600\n",
        "df[\"daily_sleep_dto.light_sleep_hours\"] = df[\"daily_sleep_dto.light_sleep_seconds\"] / 3600\n",
        "df[\"daily_sleep_dto.rem_sleep_hours\"] = df[\"daily_sleep_dto.rem_sleep_seconds\"] / 3600\n",
        "df[\"daily_sleep_dto.awake_sleep_hours\"] = df[\"daily_sleep_dto.awake_sleep_seconds\"] / 3600\n",
        "\n",
        "# Ensure calendar_date is datetime and then sort in ascending order\n",
        "df[\"daily_sleep_dto.calendar_date\"] = pd.to_datetime(df[\"daily_sleep_dto.calendar_date\"]).dt.date\n",
        "df.sort_values(\"daily_sleep_dto.calendar_date\", inplace=True)\n",
        "df.set_index(\"daily_sleep_dto.calendar_date\", inplace=True)\n",
        "\n",
        "# Rename columns for clarity\n",
        "df.rename(columns={\n",
        "    'daily_sleep_dto.deep_sleep_hours': 'Deep',\n",
        "    'daily_sleep_dto.light_sleep_hours': 'Light',\n",
        "    'daily_sleep_dto.rem_sleep_hours': 'REM',\n",
        "    'daily_sleep_dto.awake_sleep_hours': 'Awake'\n",
        "}, inplace=True)\n",
        "\n",
        "# Create bar plot\n",
        "df[['Deep', 'Light', 'REM', 'Awake']].plot(kind='bar', stacked=True, figsize=(10, 7))\n",
        "\n",
        "plt.ylabel(\"Hours\")\n",
        "plt.xlabel(\"Date\")\n",
        "plt.title(\"Daily Sleep Stages\")\n",
        "plt.xticks(rotation=45, ha='right')\n",
        "plt.grid(axis='y')\n",
        "plt.show()"
      ],
      "metadata": {
        "colab": {
          "base_uri": "https://localhost:8080/",
          "height": 694
        },
        "id": "nwmrTPLd-cUK",
        "outputId": "fbecdfb0-024f-4683-c0ca-5f19516f1e4f"
      },
      "execution_count": 11,
      "outputs": [
        {
          "output_type": "display_data",
          "data": {
            "text/plain": [
              "<Figure size 1000x700 with 1 Axes>"
            ],
            "image/png": "[encoded data removed]"
          },
          "metadata": {}
        }
      ]
    }
  ]
}